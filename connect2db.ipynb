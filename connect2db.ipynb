{
 "cells": [
  {
   "cell_type": "code",
   "execution_count": 1,
   "metadata": {},
   "outputs": [
    {
     "name": "stdout",
     "output_type": "stream",
     "text": [
      "Collecting psycopg2-binary\n",
      "  Downloading psycopg2_binary-2.9.10-cp311-cp311-manylinux_2_17_x86_64.manylinux2014_x86_64.whl.metadata (4.9 kB)\n",
      "Downloading psycopg2_binary-2.9.10-cp311-cp311-manylinux_2_17_x86_64.manylinux2014_x86_64.whl (3.0 MB)\n",
      "\u001b[2K   \u001b[90m━━━━━━━━━━━━━━━━━━━━━━━━━━━━━━━━━━━━━━━━\u001b[0m \u001b[32m3.0/3.0 MB\u001b[0m \u001b[31m549.1 kB/s\u001b[0m eta \u001b[36m0:00:00\u001b[0ma \u001b[36m0:00:01\u001b[0m\n",
      "\u001b[?25hInstalling collected packages: psycopg2-binary\n",
      "Successfully installed psycopg2-binary-2.9.10\n"
     ]
    }
   ],
   "source": [
    "!pip3 install psycopg2-binary"
   ]
  },
  {
   "cell_type": "code",
   "execution_count": 2,
   "metadata": {},
   "outputs": [],
   "source": [
    "import psycopg2\n",
    "import psycopg2.extras as extras\n",
    "import re"
   ]
  },
  {
   "cell_type": "code",
   "execution_count": 3,
   "metadata": {},
   "outputs": [],
   "source": [
    "PSQL_HOST = 'localhost'\n",
    "PSQL_PORT = 5432\n",
    "PSQL_DB = 'database'\n",
    "PSQL_USER = 'user'\n",
    "PSQL_PWD = 'password'"
   ]
  },
  {
   "cell_type": "code",
   "execution_count": 4,
   "metadata": {},
   "outputs": [],
   "source": [
    "conn = psycopg2.connect(host=PSQL_HOST, dbname=PSQL_DB, user=PSQL_USER, password=PSQL_PWD, port=PSQL_PORT, connect_timeout=5)\n",
    "cursor = conn.cursor()"
   ]
  },
  {
   "cell_type": "code",
   "execution_count": 5,
   "metadata": {},
   "outputs": [],
   "source": [
    "cursor.close()"
   ]
  },
  {
   "cell_type": "code",
   "execution_count": null,
   "metadata": {},
   "outputs": [],
   "source": [
    "class Point:\n",
    "    def __init__(self,id_point, geom_point):\n",
    "        self.id_point = id_point\n",
    "        self.geom_point = geom_point\n",
    "\n",
    "class Line:\n",
    "    def __init__(self,id_line, geom_line, cost):\n",
    "        self.id_point = id_line\n",
    "        self.geom_point = geom_line\n",
    "        self.cost = cost"
   ]
  },
  {
   "cell_type": "code",
   "execution_count": null,
   "metadata": {},
   "outputs": [
    {
     "name": "stdout",
     "output_type": "stream",
     "text": [
      "All rows in column 'peso' of table 'eps.red2' have been set to 5.\n",
      "All rows in column 'peso' of table 'eps.red1' have been set to 3.\n"
     ]
    }
   ],
   "source": [
    "def change_cost(table_name, value):\n",
    "    # Database connection details\n",
    "    conn = psycopg2.connect(host=PSQL_HOST, dbname=PSQL_DB, user=PSQL_USER, password=PSQL_PWD, port=PSQL_PORT, connect_timeout=5)\n",
    "\n",
    "    cursor = conn.cursor()\n",
    "\n",
    "    # Parameters\n",
    "    column_name = \"peso\"\n",
    "\n",
    "    # SQL query to update all rows\n",
    "    sql_update_query = f\"\"\"\n",
    "    UPDATE {table_name}\n",
    "    SET {column_name} = %s;\n",
    "    \"\"\"\n",
    "\n",
    "    # Execute the query and pass the value\n",
    "    cursor.execute(sql_update_query, (value,))\n",
    "\n",
    "    # Commit the changes\n",
    "    conn.commit()\n",
    "\n",
    "    # Close the cursor and connection\n",
    "    cursor.close()\n",
    "    conn.close()\n",
    "\n",
    "    print(f\"All rows in column '{column_name}' of table '{table_name}' have been set to {value}.\")\n",
    "\n",
    "change_cost('eps.red2', 5)\n",
    "change_cost('eps.red1', 3)"
   ]
  },
  {
   "cell_type": "code",
   "execution_count": 25,
   "metadata": {},
   "outputs": [],
   "source": [
    "def get_lon_lat(cursor, table, id):\n",
    "    sql_query = f'SELECT ST_AsText(geom) from {table} WHERE id = {id}'\n",
    "    cursor.execute(sql_query)\n",
    "    result = cursor.fetchone()[0]\n",
    "    match = re.match(r'POINT\\(([\\d\\-.]+) ([\\d\\-.]+)\\)', result)\n",
    "    return float(match.group(1)), float(match.group(2))"
   ]
  },
  {
   "cell_type": "code",
   "execution_count": null,
   "metadata": {},
   "outputs": [
    {
     "name": "stdout",
     "output_type": "stream",
     "text": [
      "-5.300087566340136 37.588388615274326\n"
     ]
    }
   ],
   "source": [
    "def get_closest_point(lon, lat):\n",
    "\n",
    "    # SQL query to find the closest point\n",
    "    sql_query = \"\"\"\n",
    "    SELECT id, ST_AsText(geom), ST_Distance(geom, ST_MakePoint(%s, %s)::geography) AS distance\n",
    "    FROM places\n",
    "    ORDER BY ST_Distance(geom, ST_MakePoint(%s, %s)::geography)\n",
    "    LIMIT 1;\n",
    "    \"\"\"\n",
    "    \n",
    "    cursor.execute(sql_query, (lon, lat, lon, lat))\n",
    "\n",
    "    result = cursor.fetchone()\n",
    "    \n",
    "    return result\n",
    "\n",
    "# Example usage\n",
    "conn = psycopg2.connect(\n",
    "        host=PSQL_HOST,\n",
    "        dbname=PSQL_DB,\n",
    "        user=PSQL_USER,\n",
    "        password=PSQL_PWD,\n",
    "        port=PSQL_PORT\n",
    "    )\n",
    "cursor = conn.cursor()\n",
    "A_x, A_y = get_lon_lat(cursor, 'eps.inicio', 1)\n",
    "B_x, B_y = get_lon_lat(cursor, 'eps.final', 6)\n",
    "#closest_point = get_closest_point(-75.123456, 40.123456)\n",
    "#print(\"Closest Point:\", closest_point)\n",
    "print(A_x, A_y)\n",
    "cursor.close()\n",
    "conn.close()\n",
    "    "
   ]
  }
 ],
 "metadata": {
  "kernelspec": {
   "display_name": "Python 3",
   "language": "python",
   "name": "python3"
  },
  "language_info": {
   "codemirror_mode": {
    "name": "ipython",
    "version": 3
   },
   "file_extension": ".py",
   "mimetype": "text/x-python",
   "name": "python",
   "nbconvert_exporter": "python",
   "pygments_lexer": "ipython3",
   "version": "3.11.5"
  }
 },
 "nbformat": 4,
 "nbformat_minor": 2
}
